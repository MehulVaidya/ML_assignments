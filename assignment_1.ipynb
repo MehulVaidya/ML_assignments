{
 "cells": [
  {
   "cell_type": "markdown",
   "id": "2c5a8ec4",
   "metadata": {},
   "source": [
    "1. What does one mean by the term &quot;machine learning&quot;?"
   ]
  },
  {
   "cell_type": "markdown",
   "id": "dd967f9c",
   "metadata": {},
   "source": [
    "ans: \n",
    "\n",
    "     Machine learning is an approach where we make use of algorithms ,\n",
    "    \n",
    "     In this approach machines tries to find the best values of the parameters so that the error is  minimal.\n",
    "        \n",
    "     Machine starts from some random values and keeps on adapting/updating the values until the error between the actual and \n",
    "     predicted is almost minimal.\n",
    "     \n",
    "     "
   ]
  },
  {
   "cell_type": "code",
   "execution_count": null,
   "id": "c188885b",
   "metadata": {},
   "outputs": [],
   "source": []
  },
  {
   "cell_type": "markdown",
   "id": "22014e31",
   "metadata": {},
   "source": [
    "2.Can you think of 4 distinct types of issues where it shines?"
   ]
  },
  {
   "cell_type": "markdown",
   "id": "89ba72a9",
   "metadata": {},
   "source": [
    "ans: \n",
    "    \n",
    "    Recommendation systems used for target audience such as youtube, netflix etc.\n",
    "    \n",
    "    fraud detection in banks.\n",
    "    \n",
    "    spam classification in emails.\n",
    "    \n",
    "    Price predictions for home."
   ]
  },
  {
   "cell_type": "code",
   "execution_count": null,
   "id": "f34bd39d",
   "metadata": {},
   "outputs": [],
   "source": []
  },
  {
   "cell_type": "markdown",
   "id": "507e4144",
   "metadata": {},
   "source": [
    "3.What is a labeled training set, and how does it work?"
   ]
  },
  {
   "cell_type": "markdown",
   "id": "f63b4fa5",
   "metadata": {},
   "source": [
    "ans: \n",
    "    \n",
    "    labeled data is the one where we already know the outcome for given input.\n",
    "    \n",
    "    labaled training data is the one used for training algoritms on."
   ]
  },
  {
   "cell_type": "code",
   "execution_count": null,
   "id": "9e2c271c",
   "metadata": {},
   "outputs": [],
   "source": []
  },
  {
   "cell_type": "markdown",
   "id": "3bda395d",
   "metadata": {},
   "source": [
    "4.What are the two most important tasks that are supervised?"
   ]
  },
  {
   "cell_type": "markdown",
   "id": "a1b54545",
   "metadata": {},
   "source": [
    "ans: \n",
    "    \n",
    "    Regression and Classification are the two of the mosy important tasks that are supervised."
   ]
  },
  {
   "cell_type": "code",
   "execution_count": null,
   "id": "b598b373",
   "metadata": {},
   "outputs": [],
   "source": []
  },
  {
   "cell_type": "code",
   "execution_count": null,
   "id": "3036ff81",
   "metadata": {},
   "outputs": [],
   "source": []
  },
  {
   "cell_type": "markdown",
   "id": "1efa9a34",
   "metadata": {},
   "source": [
    "5.Can you think of four examples of unsupervised tasks?"
   ]
  },
  {
   "cell_type": "markdown",
   "id": "efd4376c",
   "metadata": {},
   "source": [
    "ans : k-means clustering, hierarchical clustering , PCA, association"
   ]
  },
  {
   "cell_type": "code",
   "execution_count": null,
   "id": "7ac92db2",
   "metadata": {},
   "outputs": [],
   "source": []
  },
  {
   "cell_type": "code",
   "execution_count": null,
   "id": "56cafa6f",
   "metadata": {},
   "outputs": [],
   "source": []
  },
  {
   "cell_type": "markdown",
   "id": "6154e53a",
   "metadata": {},
   "source": [
    "6.State the machine learning model that would be best to make a robot walk through various\n",
    "unfamiliar terrains?"
   ]
  },
  {
   "cell_type": "markdown",
   "id": "12c8bd5e",
   "metadata": {},
   "source": [
    "ans : Reinforced Learning, where the robot can learn from response of the terrain to optimize itself."
   ]
  },
  {
   "cell_type": "code",
   "execution_count": null,
   "id": "e07bbdca",
   "metadata": {},
   "outputs": [],
   "source": []
  },
  {
   "cell_type": "code",
   "execution_count": null,
   "id": "607bf37a",
   "metadata": {},
   "outputs": [],
   "source": []
  },
  {
   "cell_type": "markdown",
   "id": "dfb98820",
   "metadata": {},
   "source": [
    "7.Which algorithm will you use to divide your customers into different groups?"
   ]
  },
  {
   "cell_type": "markdown",
   "id": "14aab776",
   "metadata": {},
   "source": [
    "ans: \n",
    "    \n",
    "    i would use DB scan clustering to divide customer in different groups. it is one of the best performing \n",
    "    \n",
    "    clustering algorithm."
   ]
  },
  {
   "cell_type": "code",
   "execution_count": null,
   "id": "f5670833",
   "metadata": {},
   "outputs": [],
   "source": []
  },
  {
   "cell_type": "code",
   "execution_count": null,
   "id": "c28c9855",
   "metadata": {},
   "outputs": [],
   "source": []
  },
  {
   "cell_type": "markdown",
   "id": "ad8dc413",
   "metadata": {},
   "source": [
    "8.Will you consider the problem of spam detection to be a supervised or unsupervised learning\n",
    "problem?"
   ]
  },
  {
   "cell_type": "markdown",
   "id": "45a3ee90",
   "metadata": {},
   "source": [
    "ans : Spam detection is a supervised Ml problem for which we have labeled data availaible."
   ]
  },
  {
   "cell_type": "code",
   "execution_count": null,
   "id": "c59e211f",
   "metadata": {},
   "outputs": [],
   "source": []
  },
  {
   "cell_type": "code",
   "execution_count": null,
   "id": "61fbb618",
   "metadata": {},
   "outputs": [],
   "source": []
  },
  {
   "cell_type": "markdown",
   "id": "e357239a",
   "metadata": {},
   "source": [
    "9.What is the concept of an online learning system?"
   ]
  },
  {
   "cell_type": "markdown",
   "id": "e0950db7",
   "metadata": {},
   "source": [
    "ans :\n",
    "    \n",
    "    when data is given to machine in small streams it learns continuosly it is an online learning system."
   ]
  },
  {
   "cell_type": "code",
   "execution_count": null,
   "id": "66399a7a",
   "metadata": {},
   "outputs": [],
   "source": []
  },
  {
   "cell_type": "code",
   "execution_count": null,
   "id": "805934d9",
   "metadata": {},
   "outputs": [],
   "source": []
  },
  {
   "cell_type": "markdown",
   "id": "97f9bc01",
   "metadata": {},
   "source": [
    "10.What is out-of-core learning, and how does it differ from core learning?"
   ]
  },
  {
   "cell_type": "markdown",
   "id": "7e6765e2",
   "metadata": {},
   "source": [
    "ans : \n",
    "    \n",
    "    Out-of-core learning system is a system that can handle data that cannot fit into your computer memory. \n",
    "    \n",
    "    It uses online learning system to feed data in small bits."
   ]
  },
  {
   "cell_type": "code",
   "execution_count": null,
   "id": "f5168880",
   "metadata": {},
   "outputs": [],
   "source": []
  },
  {
   "cell_type": "code",
   "execution_count": null,
   "id": "bc97ed5b",
   "metadata": {},
   "outputs": [],
   "source": []
  },
  {
   "cell_type": "markdown",
   "id": "ca3c16d9",
   "metadata": {},
   "source": [
    "11.What kind of learning algorithm makes predictions using a similarity measure?"
   ]
  },
  {
   "cell_type": "markdown",
   "id": "2b2aadeb",
   "metadata": {},
   "source": [
    "ans : Instance based algorithm makes prediictions using a similarity measure."
   ]
  },
  {
   "cell_type": "code",
   "execution_count": null,
   "id": "bd17bdb4",
   "metadata": {},
   "outputs": [],
   "source": []
  },
  {
   "cell_type": "code",
   "execution_count": null,
   "id": "e1f247ee",
   "metadata": {},
   "outputs": [],
   "source": []
  },
  {
   "cell_type": "markdown",
   "id": "22a391ac",
   "metadata": {},
   "source": [
    "12.What&#39;s the difference between a model parameter and a hyperparameter in a learning\n",
    "algorithm?"
   ]
  },
  {
   "cell_type": "markdown",
   "id": "e5f452a2",
   "metadata": {},
   "source": [
    "ans : \n",
    "    \n",
    "    Model parameter determines how a model will predict given a new instance. Model usually has more than one parameter (i.e. slope of a linear model). \n",
    "    \n",
    "    Hyperparameter is a parameter for the learning algorithm, not of a model."
   ]
  },
  {
   "cell_type": "code",
   "execution_count": null,
   "id": "000b7229",
   "metadata": {},
   "outputs": [],
   "source": []
  },
  {
   "cell_type": "markdown",
   "id": "0517e189",
   "metadata": {},
   "source": [
    "13.What are the criteria that model-based learning algorithms look for? What is the most popular\n",
    "method they use to achieve success? What method do they use to make predictions?"
   ]
  },
  {
   "cell_type": "markdown",
   "id": "83b47977",
   "metadata": {},
   "source": [
    "ans: \n",
    "    \n",
    "    A model based alogorithm tries to find the best value of parameters for which the error is almost zero.\n",
    "    \n",
    "    It does this by minimizing the cost function."
   ]
  },
  {
   "cell_type": "code",
   "execution_count": null,
   "id": "63553995",
   "metadata": {},
   "outputs": [],
   "source": []
  },
  {
   "cell_type": "markdown",
   "id": "85b9df13",
   "metadata": {},
   "source": [
    "14.Can you name four of the most important Machine Learning challenges?"
   ]
  },
  {
   "cell_type": "markdown",
   "id": "700c8695",
   "metadata": {},
   "source": [
    "ans: \n",
    "    \n",
    "    A lot of missing values, Overfitting, underfitting, non - representative data."
   ]
  },
  {
   "cell_type": "code",
   "execution_count": null,
   "id": "d7445546",
   "metadata": {},
   "outputs": [],
   "source": []
  },
  {
   "cell_type": "code",
   "execution_count": null,
   "id": "5ba6a18c",
   "metadata": {},
   "outputs": [],
   "source": []
  },
  {
   "cell_type": "markdown",
   "id": "6e6c1e1a",
   "metadata": {},
   "source": [
    "15.What happens if the model performs well on the training data but fails to generalize the results\n",
    "to new situations? Can you think of three different options?"
   ]
  },
  {
   "cell_type": "markdown",
   "id": "2eea83f1",
   "metadata": {},
   "source": [
    "ans: \n",
    "    \n",
    "    It is a case of overfitiing.\n",
    "    \n",
    "    1. check for outliers.\n",
    "    \n",
    "    2. try to get more data.\n",
    "    \n",
    "    3. try hyperparameter tuning.\n",
    "    \n",
    "    "
   ]
  },
  {
   "cell_type": "code",
   "execution_count": null,
   "id": "0f6f6a0c",
   "metadata": {},
   "outputs": [],
   "source": []
  },
  {
   "cell_type": "code",
   "execution_count": null,
   "id": "4a8b28d9",
   "metadata": {},
   "outputs": [],
   "source": []
  },
  {
   "cell_type": "markdown",
   "id": "91c628fb",
   "metadata": {},
   "source": [
    "16.What exactly is a test set, and why would you need one?"
   ]
  },
  {
   "cell_type": "markdown",
   "id": "e294bc0e",
   "metadata": {},
   "source": [
    "ans : \n",
    "    \n",
    "    Test set is a set to test your model (fit using training data) to see how it performs.\n",
    "    \n",
    "    Test set is necessary to determine how good (or bad) a model performs."
   ]
  },
  {
   "cell_type": "code",
   "execution_count": null,
   "id": "f4692b62",
   "metadata": {},
   "outputs": [],
   "source": []
  },
  {
   "cell_type": "code",
   "execution_count": null,
   "id": "ba63eed5",
   "metadata": {},
   "outputs": [],
   "source": []
  },
  {
   "cell_type": "markdown",
   "id": "8fa2b4e5",
   "metadata": {},
   "source": [
    "17.What is a validation set&#39;s purpose?"
   ]
  },
  {
   "cell_type": "markdown",
   "id": "bb58c059",
   "metadata": {},
   "source": [
    "ans :\n",
    "    \n",
    "    Validation set is a set used to compare between different training models."
   ]
  },
  {
   "cell_type": "code",
   "execution_count": null,
   "id": "37105743",
   "metadata": {},
   "outputs": [],
   "source": []
  },
  {
   "cell_type": "code",
   "execution_count": null,
   "id": "b4f342ad",
   "metadata": {},
   "outputs": [],
   "source": []
  },
  {
   "cell_type": "markdown",
   "id": "41691d59",
   "metadata": {},
   "source": [
    "18.What precisely is the train-dev kit, when will you need it, how do you put it to use?"
   ]
  },
  {
   "cell_type": "markdown",
   "id": "3e4382d7",
   "metadata": {},
   "source": [
    "ans:\n",
    "    \n",
    "    Training Data Learning algorithm like gradient descent use training data iteratively\n",
    "    to learn the parameters of the model.\n",
    "    \n",
    "    The goal of dev-set is to rank the models in term of their accuracy \n",
    "    and helps us decide which model to proceed further with.\n",
    "    \n",
    "    We use test-set as a proxy for unseen data and evaluate our model on test-set."
   ]
  },
  {
   "cell_type": "code",
   "execution_count": null,
   "id": "ddd8ea5b",
   "metadata": {},
   "outputs": [],
   "source": []
  },
  {
   "cell_type": "markdown",
   "id": "2f78076a",
   "metadata": {},
   "source": [
    "19.What could go wrong if you use the test set to tune hyperparameters?"
   ]
  },
  {
   "cell_type": "markdown",
   "id": "a370196b",
   "metadata": {},
   "source": [
    "ans : \n",
    "    \n",
    "    it will not perform well on unseen data, if we tune paramters of test set."
   ]
  },
  {
   "cell_type": "code",
   "execution_count": null,
   "id": "99425e2c",
   "metadata": {},
   "outputs": [],
   "source": []
  },
  {
   "cell_type": "code",
   "execution_count": null,
   "id": "997bfa5a",
   "metadata": {},
   "outputs": [],
   "source": []
  }
 ],
 "metadata": {
  "kernelspec": {
   "display_name": "Python 3 (ipykernel)",
   "language": "python",
   "name": "python3"
  },
  "language_info": {
   "codemirror_mode": {
    "name": "ipython",
    "version": 3
   },
   "file_extension": ".py",
   "mimetype": "text/x-python",
   "name": "python",
   "nbconvert_exporter": "python",
   "pygments_lexer": "ipython3",
   "version": "3.9.12"
  }
 },
 "nbformat": 4,
 "nbformat_minor": 5
}
