{
 "cells": [
  {
   "cell_type": "markdown",
   "id": "8ed9c831",
   "metadata": {},
   "source": [
    "1. What are the key tasks involved in getting ready to work with machine learning modeling?"
   ]
  },
  {
   "cell_type": "markdown",
   "id": "ec913676",
   "metadata": {},
   "source": [
    "ans:\n",
    "    \n",
    "    key tasks for machine learning modelling are:\n",
    "        \n",
    "    - data ingestion.\n",
    "    - data validation.\n",
    "    - EDA\n",
    "    - feature engineering.\n",
    "    - scaling data\n",
    "    - model selection.\n",
    "    - model training.\n",
    "    - model evealuation.\n",
    "    - deployment."
   ]
  },
  {
   "cell_type": "code",
   "execution_count": null,
   "id": "be2f67f8",
   "metadata": {},
   "outputs": [],
   "source": []
  },
  {
   "cell_type": "code",
   "execution_count": null,
   "id": "2b153f32",
   "metadata": {},
   "outputs": [],
   "source": []
  },
  {
   "cell_type": "markdown",
   "id": "ef750abd",
   "metadata": {},
   "source": [
    "2. What are the different forms of data used in machine learning? Give a specific example for each of\n",
    "them."
   ]
  },
  {
   "cell_type": "markdown",
   "id": "09278df6",
   "metadata": {},
   "source": [
    "ans:\n",
    "    \n",
    "    - categorical(object) data eg text, any category(yes or no).\n",
    "    - numerical data (int and float) eg : price of car, house etc.\n",
    "    - date eg : 12/5/2005\n",
    "    "
   ]
  },
  {
   "cell_type": "code",
   "execution_count": null,
   "id": "c533b3b4",
   "metadata": {},
   "outputs": [],
   "source": []
  },
  {
   "cell_type": "code",
   "execution_count": null,
   "id": "c8033dfd",
   "metadata": {},
   "outputs": [],
   "source": []
  },
  {
   "cell_type": "markdown",
   "id": "c120870d",
   "metadata": {},
   "source": [
    "3. Distinguish:\n",
    "\n",
    "    1. Numeric vs. categorical attributes\n",
    "\n",
    "    2. Feature selection vs. dimensionality reduction"
   ]
  },
  {
   "cell_type": "markdown",
   "id": "2b3fa5c2",
   "metadata": {},
   "source": [
    "ans:\n",
    "\n",
    "    numerical vs categorical featrues:\n",
    "    numerical features is quantitative in nature as it takes quantitative values for data. \n",
    "    \n",
    "    categorical data are values obtained for a qualitative variable. categorical data numbers do not carry a sense of magnitude.\n",
    "    \n",
    "    \n",
    "    feature selection vs. dimensionality reduction\n",
    "    feature selection  is selection of a subset of the original feature set, that are directly corelated with the target variable.\n",
    "    dimensionality reduction is reducing the data and not removing  an columns.\n",
    "    its rather a method to reduce the data into lesser colums without removing any meaning from the whole data.\n",
    "    \n",
    "    eg : reducing 50 columns to 7, but this 7 represent almost all the 50 columns."
   ]
  },
  {
   "cell_type": "code",
   "execution_count": null,
   "id": "6082c48c",
   "metadata": {},
   "outputs": [],
   "source": []
  },
  {
   "cell_type": "code",
   "execution_count": null,
   "id": "c19b9d45",
   "metadata": {},
   "outputs": [],
   "source": []
  },
  {
   "cell_type": "markdown",
   "id": "6fcbdc54",
   "metadata": {},
   "source": [
    "4. Make quick notes on any two of the following:\n",
    "\n",
    "    1. The histogram\n",
    "\n",
    "    2. Use a scatter plot\n",
    "\n",
    "    3.PCA (Personal Computer Aid)"
   ]
  },
  {
   "cell_type": "markdown",
   "id": "a8a2b616",
   "metadata": {},
   "source": [
    "ans:\n",
    "    \n",
    "    histogram is a graph of frequencing distribution of numerical data. \n",
    "    it shows how many number of data falls under a range called bins.\n",
    "    \n",
    "    scatter plot is a graph used for checking relationship between two data points.\n",
    "    it its used to find out linear relationships by comparing two variables .\n",
    "    \n",
    "    "
   ]
  },
  {
   "cell_type": "code",
   "execution_count": null,
   "id": "debd1031",
   "metadata": {},
   "outputs": [],
   "source": []
  },
  {
   "cell_type": "code",
   "execution_count": null,
   "id": "3837cb3f",
   "metadata": {},
   "outputs": [],
   "source": []
  },
  {
   "cell_type": "markdown",
   "id": "ce7915d5",
   "metadata": {},
   "source": [
    "5. Why is it necessary to investigate data? Is there a discrepancy in how qualitative and quantitative\n",
    "data are explored?"
   ]
  },
  {
   "cell_type": "markdown",
   "id": "aed7687d",
   "metadata": {},
   "source": [
    "ans:\n",
    "    \n",
    "    data usually can come uncleaned any may have missing values, outliers etc.\n",
    "    if this data is passed to model it will not be able to understand the patterns well.\n",
    "    so we have to  investigate the data."
   ]
  },
  {
   "cell_type": "code",
   "execution_count": null,
   "id": "05204fc2",
   "metadata": {},
   "outputs": [],
   "source": []
  },
  {
   "cell_type": "code",
   "execution_count": null,
   "id": "dce0e437",
   "metadata": {},
   "outputs": [],
   "source": []
  },
  {
   "cell_type": "markdown",
   "id": "9926fece",
   "metadata": {},
   "source": [
    "6. What are the various histogram shapes? What exactly are ‘bins&#39;?"
   ]
  },
  {
   "cell_type": "markdown",
   "id": "9521e5c2",
   "metadata": {},
   "source": [
    "ans:\n",
    "    \n",
    "    The different types of a Histogram are:\n",
    "\n",
    "- uniform Histogram\n",
    "- symmetric Histogram\n",
    "- bimodal Histogram\n",
    "- probability Histogram.\n",
    "\n",
    "the bin in a histogram is the choice of unit and spacing on the X-axis. All the data in a probability distribution represented visually by a histogram is filled into the corresponding bins. The height of each bin is a measurement of the frequency with which data appears inside the range of that bin in the distribution."
   ]
  },
  {
   "cell_type": "code",
   "execution_count": null,
   "id": "60a2b7a4",
   "metadata": {},
   "outputs": [],
   "source": []
  },
  {
   "cell_type": "code",
   "execution_count": null,
   "id": "69dec501",
   "metadata": {},
   "outputs": [],
   "source": []
  },
  {
   "cell_type": "markdown",
   "id": "8e349626",
   "metadata": {},
   "source": [
    "7. How do we deal with data outliers?"
   ]
  },
  {
   "cell_type": "markdown",
   "id": "55058dfd",
   "metadata": {},
   "source": [
    "ans:\n",
    "    \n",
    "    we can use Z-Score or any of below methods to deal with data outliers:\n",
    "\n",
    "    univariate Method: this method looks for data points with extreme values on one variable.\n",
    "\n",
    "    multivariate Method: we look for unusual combinations of all the variables.\n",
    "\n",
    "    minkowski error: This method reduces the contribution of potential outliers in the training process.\n",
    "\n",
    "    z-score: this can be done with just one line code as we have already calculated the Z-score.\n",
    "    boston_df_o = boston_df_o[(z < 3).all(axis=1)]\n",
    "\n",
    "    IQR Score: Calculate IQR score to filter out the outliers by keeping only valid values.\n",
    "    boston_df_out = boston_df_o1[~((boston_df_o1 < (Q1 - 1.5 * IQR)) |(boston_df_o1 > (Q3 + 1.5 *IQR))).any(axis=1)]\n",
    "    boston_df_out.shape\n",
    "\n",
    "    quantile function: use quantile() to remove amount of data."
   ]
  },
  {
   "cell_type": "code",
   "execution_count": null,
   "id": "6e62b598",
   "metadata": {},
   "outputs": [],
   "source": []
  },
  {
   "cell_type": "code",
   "execution_count": null,
   "id": "d59310f7",
   "metadata": {},
   "outputs": [],
   "source": []
  },
  {
   "cell_type": "markdown",
   "id": "24a28bce",
   "metadata": {},
   "source": [
    "8. What are the various central inclination measures? Why does mean vary too much from median in\n",
    "certain data sets?"
   ]
  },
  {
   "cell_type": "markdown",
   "id": "9716ef12",
   "metadata": {},
   "source": [
    "ans:\n",
    "\n",
    "\n",
    "    Mean, Median and Mode are Central Inclination Measures. Mean varies more than Median due to presence of outliers, as mean is averaging all points while median in like finding a middle number."
   ]
  },
  {
   "cell_type": "code",
   "execution_count": null,
   "id": "8a60add0",
   "metadata": {},
   "outputs": [],
   "source": []
  },
  {
   "cell_type": "code",
   "execution_count": null,
   "id": "3c9a14f9",
   "metadata": {},
   "outputs": [],
   "source": []
  },
  {
   "cell_type": "markdown",
   "id": "e42fc65d",
   "metadata": {},
   "source": [
    "9. Describe how a scatter plot can be used to investigate bivariate relationships. Is it possible to find\n",
    "outliers using a scatter plot?"
   ]
  },
  {
   "cell_type": "markdown",
   "id": "3ef07b68",
   "metadata": {},
   "source": [
    "ans:\n",
    "    \n",
    "    a scatter plot  uses dots to represent values for two different numeric variables. \n",
    "    the position of each dot on the horizontal and vertical axis indicates values for an individual data point. \n",
    "    So this visualization gives us the idea of bivariate relationship.\n",
    "    scatter plot can also help finding outliers as outliers can be visualized at farther distance than regular data."
   ]
  },
  {
   "cell_type": "code",
   "execution_count": null,
   "id": "0f12f856",
   "metadata": {},
   "outputs": [],
   "source": []
  },
  {
   "cell_type": "code",
   "execution_count": null,
   "id": "b9035157",
   "metadata": {},
   "outputs": [],
   "source": []
  },
  {
   "cell_type": "markdown",
   "id": "e4448f69",
   "metadata": {},
   "source": [
    "10. Describe how cross-tabs can be used to figure out how two variables are related."
   ]
  },
  {
   "cell_type": "markdown",
   "id": "d731e78e",
   "metadata": {},
   "source": [
    "ans:\n",
    "    \n",
    "    cross tabulation is a method to quantitatively analyze the relationship between multiple variables. Also known as contingency tables or cross tabs, cross tabulation groups variables to understand the correlation between different variables. It also shows how correlations change from one variable grouping to another."
   ]
  },
  {
   "cell_type": "code",
   "execution_count": null,
   "id": "52e4687c",
   "metadata": {},
   "outputs": [],
   "source": []
  }
 ],
 "metadata": {
  "kernelspec": {
   "display_name": "Python 3 (ipykernel)",
   "language": "python",
   "name": "python3"
  },
  "language_info": {
   "codemirror_mode": {
    "name": "ipython",
    "version": 3
   },
   "file_extension": ".py",
   "mimetype": "text/x-python",
   "name": "python",
   "nbconvert_exporter": "python",
   "pygments_lexer": "ipython3",
   "version": "3.9.12"
  }
 },
 "nbformat": 4,
 "nbformat_minor": 5
}
