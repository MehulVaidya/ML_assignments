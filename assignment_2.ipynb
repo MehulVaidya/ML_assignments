{
 "cells": [
  {
   "cell_type": "markdown",
   "id": "0b779324",
   "metadata": {},
   "source": [
    "1. What is the concept of human learning? Please give two examples."
   ]
  },
  {
   "cell_type": "markdown",
   "id": "c90bd439",
   "metadata": {},
   "source": [
    "ans:\n",
    "    \n",
    "    human learning is the process of repeating things many times, we learn from experiences and also watching others.\n",
    "    \n",
    "    1. learning from bad and good experiences.\n",
    "    \n",
    "    2. learning from watching someone do something.\n",
    "\n",
    "    3. repeating something until it gets done."
   ]
  },
  {
   "cell_type": "code",
   "execution_count": null,
   "id": "c25da6d9",
   "metadata": {},
   "outputs": [],
   "source": []
  },
  {
   "cell_type": "code",
   "execution_count": null,
   "id": "c746324c",
   "metadata": {},
   "outputs": [],
   "source": []
  },
  {
   "cell_type": "markdown",
   "id": "f3769d7e",
   "metadata": {},
   "source": [
    "2. What different forms of human learning are there? Are there any machine learning equivalents?"
   ]
  },
  {
   "cell_type": "markdown",
   "id": "9e2fa6e9",
   "metadata": {},
   "source": [
    "ans:\n",
    "    \n",
    "    supervised learning is one of the equivalents where we provide labelled data ,\n",
    "    which is the same as experience of something that has happened in the past\n",
    "    \n",
    "    unsupervised learning is the one where we are able to seperate things in certain groups. "
   ]
  },
  {
   "cell_type": "code",
   "execution_count": null,
   "id": "926caeab",
   "metadata": {},
   "outputs": [],
   "source": []
  },
  {
   "cell_type": "code",
   "execution_count": null,
   "id": "a0aa9b84",
   "metadata": {},
   "outputs": [],
   "source": []
  },
  {
   "cell_type": "markdown",
   "id": "312aecb9",
   "metadata": {},
   "source": [
    "3. What is machine learning, and how does it work? What are the key responsibilities of machine\n",
    "learning?"
   ]
  },
  {
   "cell_type": "markdown",
   "id": "ac4715c4",
   "metadata": {},
   "source": [
    "ans:\n",
    "    \n",
    "    Machine learning is a branch of Artificial intelligence (AI) that teaches computers on how to think in a similar way to how humans do, like by Learning and improving upon past experiences.\n",
    "\n",
    "    It works by exploring data and identifying patterns, and involves minimal human intervention.\n",
    "    Roles and responsibilities of a machine learning engineer are:\n",
    "\n",
    "\n",
    "    Researching and implementing ML algorithms and tools. Selecting appropriate data sets.\n",
    "    Picking appropriate data representation methods. Identifying differences in data distribution that affects model performance. Verifying data quality."
   ]
  },
  {
   "cell_type": "code",
   "execution_count": null,
   "id": "f383c5a0",
   "metadata": {},
   "outputs": [],
   "source": []
  },
  {
   "cell_type": "code",
   "execution_count": null,
   "id": "96f921ae",
   "metadata": {},
   "outputs": [],
   "source": []
  },
  {
   "cell_type": "markdown",
   "id": "d488e3ea",
   "metadata": {},
   "source": [
    "4. Define the terms &quot;penalty&quot; and &quot;reward&quot; in the context of reinforcement learning."
   ]
  },
  {
   "cell_type": "markdown",
   "id": "4047cd93",
   "metadata": {},
   "source": [
    "ans:\n",
    "    \n",
    "    A Reinforcement Learning Algorithm, which may also be referred to as an agent, \n",
    "    learns by interacting with its environment. \n",
    "    The agent receives rewards by performing correctly and penalties for performing incorrectly."
   ]
  },
  {
   "cell_type": "code",
   "execution_count": null,
   "id": "7b0e56ab",
   "metadata": {},
   "outputs": [],
   "source": []
  },
  {
   "cell_type": "code",
   "execution_count": null,
   "id": "4242466b",
   "metadata": {},
   "outputs": [],
   "source": []
  },
  {
   "cell_type": "markdown",
   "id": "d84a0d35",
   "metadata": {},
   "source": [
    "5. Explain the term &quot;learning as a search&quot;?"
   ]
  },
  {
   "cell_type": "markdown",
   "id": "f2fe760d",
   "metadata": {},
   "source": [
    "ans:\n",
    "    \n",
    "     a search through the space of all sentences in a concept description language for a sentence,\n",
    "     that best describes the data"
   ]
  },
  {
   "cell_type": "code",
   "execution_count": null,
   "id": "da97a88e",
   "metadata": {},
   "outputs": [],
   "source": []
  },
  {
   "cell_type": "code",
   "execution_count": null,
   "id": "8404dc4d",
   "metadata": {},
   "outputs": [],
   "source": []
  },
  {
   "cell_type": "markdown",
   "id": "06163e72",
   "metadata": {},
   "source": [
    "6. What are the various goals of machine learning? What is the relationship between these and\n",
    "human learning?"
   ]
  },
  {
   "cell_type": "markdown",
   "id": "a0ef41a1",
   "metadata": {},
   "source": [
    "ans:\n",
    "    \n",
    "    \n",
    "    The Goal of machine learning, closely coupled with the goal of AI,\n",
    "    is to achieve a through understanding about the nature of learning process (both human learning and other forms of learning), about the computational aspects of learning behaviors,\n",
    "    and to implant the learning capability in computer systems.\n",
    "    \n",
    "    Humans have the ability to learn, however with the progress in artificial intelligence,\n",
    "    machine learning has become a resource which can augment or even replace human learning. \n",
    "    Learning does not happen all at once, but it builds upon and is shaped by previous knowledge."
   ]
  },
  {
   "cell_type": "code",
   "execution_count": null,
   "id": "540cc2e1",
   "metadata": {},
   "outputs": [],
   "source": []
  },
  {
   "cell_type": "code",
   "execution_count": null,
   "id": "db7357a2",
   "metadata": {},
   "outputs": [],
   "source": []
  },
  {
   "cell_type": "markdown",
   "id": "6ccad7e8",
   "metadata": {},
   "source": [
    "7. Illustrate the various elements of machine learning using a real-life illustration."
   ]
  },
  {
   "cell_type": "markdown",
   "id": "422d42ab",
   "metadata": {},
   "source": [
    "ans: \n",
    "\n",
    "    Evaluation: how good models are differentiated; how programs are evaluated.\n",
    "    Optimization: the process for finding good models; how programs are generated.\n",
    "    Representation: what the model looks like; how knowledge is represented.\n"
   ]
  },
  {
   "cell_type": "code",
   "execution_count": null,
   "id": "051ebf8e",
   "metadata": {},
   "outputs": [],
   "source": []
  },
  {
   "cell_type": "code",
   "execution_count": null,
   "id": "e7b2bf5c",
   "metadata": {},
   "outputs": [],
   "source": []
  },
  {
   "cell_type": "markdown",
   "id": "9626accc",
   "metadata": {},
   "source": [
    "8. Provide an example of the abstraction method."
   ]
  },
  {
   "cell_type": "markdown",
   "id": "82d64ef5",
   "metadata": {},
   "source": [
    "ans:\n",
    "\n",
    "    In Machine Learning, Abstraction is supported primarily at the level of modules. This can be justified in two ways: first, Data abstraction is mostly a question of program interfaces and therefore it arises naturally at the point where we have to consider program composition and modules."
   ]
  },
  {
   "cell_type": "code",
   "execution_count": null,
   "id": "ee51b07d",
   "metadata": {},
   "outputs": [],
   "source": []
  },
  {
   "cell_type": "code",
   "execution_count": null,
   "id": "3a532a8e",
   "metadata": {},
   "outputs": [],
   "source": []
  },
  {
   "cell_type": "markdown",
   "id": "a30014b1",
   "metadata": {},
   "source": [
    "9. What is the concept of generalization? What function does it play in the machine learning\n",
    "process?"
   ]
  },
  {
   "cell_type": "markdown",
   "id": "28bf74d5",
   "metadata": {},
   "source": [
    "ans:\n",
    "\n",
    "    generalization is when a model is able to perform well on both train and test data.\n",
    "    \n",
    "    it does not make biased predictions.\n",
    "    "
   ]
  },
  {
   "cell_type": "code",
   "execution_count": null,
   "id": "e6872021",
   "metadata": {},
   "outputs": [],
   "source": []
  },
  {
   "cell_type": "code",
   "execution_count": null,
   "id": "b907a2dc",
   "metadata": {},
   "outputs": [],
   "source": []
  },
  {
   "cell_type": "markdown",
   "id": "f7d59a48",
   "metadata": {},
   "source": [
    "10.What is classification, exactly? What are the main distinctions between classification and regression?"
   ]
  },
  {
   "cell_type": "markdown",
   "id": "c77d67b9",
   "metadata": {},
   "source": [
    "ans:\n",
    "    \n",
    "    when our output variable is a category like yes/no or multiclass category(grade A,B,C,D) etc we call it a classification\n",
    "    problem.\n",
    "    \n",
    "    when it is a number, float like 1.2, 23034 etc it is a regression prblem."
   ]
  },
  {
   "cell_type": "code",
   "execution_count": null,
   "id": "3eca1515",
   "metadata": {},
   "outputs": [],
   "source": []
  },
  {
   "cell_type": "markdown",
   "id": "4e9640f1",
   "metadata": {},
   "source": [
    "11. What is regression, and how does it work? Give an example of a real-world problem that was\n",
    "solved using regression."
   ]
  },
  {
   "cell_type": "markdown",
   "id": "39304c12",
   "metadata": {},
   "source": [
    "ans: \n",
    "\n",
    "    Regression is a Supervised Machine Learning technique which is used to predict a number, float.\n",
    "    The goal of a regression algorithm is to plot a best-fit line or a curve between the data.\n",
    "    \n",
    "    A simple linear regression real life example could mean you finding a relationship between the revenue and temperature, with a sample size for revenue as the output variable"
   ]
  },
  {
   "cell_type": "code",
   "execution_count": null,
   "id": "d755e8da",
   "metadata": {},
   "outputs": [],
   "source": []
  },
  {
   "cell_type": "code",
   "execution_count": null,
   "id": "997029a8",
   "metadata": {},
   "outputs": [],
   "source": []
  },
  {
   "cell_type": "markdown",
   "id": "c4affc47",
   "metadata": {},
   "source": [
    "12. Describe the clustering mechanism in detail."
   ]
  },
  {
   "cell_type": "markdown",
   "id": "25e981c1",
   "metadata": {},
   "source": [
    "ans:\n",
    "    \n",
    "    clustering is an unsupervised machine learning approach ,\n",
    "    where we sepearate the entire data on the basis of some similarities into groups.\n",
    "    which later can be used for recommendation, ads etc"
   ]
  },
  {
   "cell_type": "code",
   "execution_count": null,
   "id": "d71d1517",
   "metadata": {},
   "outputs": [],
   "source": []
  },
  {
   "cell_type": "code",
   "execution_count": null,
   "id": "348db038",
   "metadata": {},
   "outputs": [],
   "source": []
  },
  {
   "cell_type": "markdown",
   "id": "bc62d258",
   "metadata": {},
   "source": [
    "13. Make brief observations on two of the following topics:\n",
    "\n",
    "i. Machine learning algorithms are used\n",
    "ii. Studying under supervision\n",
    "iii. Studying without supervision\n",
    "\n",
    "iv. Reinforcement learning is a form of learning based on positive reinforcement."
   ]
  },
  {
   "cell_type": "markdown",
   "id": "6d930c25",
   "metadata": {},
   "source": [
    "ans:\n",
    "    \n",
    "   \n",
    "    Machine learning algorithms are used: Machine Learning uses programmed algorithms that,\n",
    "        receive and analyse input data to predict output values within an acceptable range. \n",
    "        As new data is fed to these algorithms, they learn and optimise their operations to improve performance, \n",
    "        developing intelligence over time.\n",
    "\n",
    "    Studying Under Supervision: In machine learning, there are two important categories- \n",
    "        Supervised and Unsupervised learning.Supervised learning, \n",
    "        an algorithm learns from a training dataset. We know the correct answers or desired output, \n",
    "        the algorithm makes predictions using the given dataset and is corrected by the “supervisor”."
   ]
  },
  {
   "cell_type": "code",
   "execution_count": null,
   "id": "e9f62494",
   "metadata": {},
   "outputs": [],
   "source": []
  }
 ],
 "metadata": {
  "kernelspec": {
   "display_name": "Python 3 (ipykernel)",
   "language": "python",
   "name": "python3"
  },
  "language_info": {
   "codemirror_mode": {
    "name": "ipython",
    "version": 3
   },
   "file_extension": ".py",
   "mimetype": "text/x-python",
   "name": "python",
   "nbconvert_exporter": "python",
   "pygments_lexer": "ipython3",
   "version": "3.9.12"
  }
 },
 "nbformat": 4,
 "nbformat_minor": 5
}
